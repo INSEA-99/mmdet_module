{
 "cells": [
  {
   "cell_type": "code",
   "execution_count": 1,
   "metadata": {},
   "outputs": [],
   "source": [
    "# Copyright (c) OpenMMLab. All rights reserved.\n",
    "from utils import create_model"
   ]
  },
  {
   "cell_type": "code",
   "execution_count": 2,
   "metadata": {},
   "outputs": [
    {
     "ename": "KeyError",
     "evalue": "'work_dir'",
     "output_type": "error",
     "traceback": [
      "\u001b[0;31m---------------------------------------------------------------------------\u001b[0m",
      "\u001b[0;31mKeyError\u001b[0m                                  Traceback (most recent call last)",
      "Cell \u001b[0;32mIn[2], line 3\u001b[0m\n\u001b[1;32m      1\u001b[0m \u001b[39m# kwrags['config']\u001b[39;00m\n\u001b[1;32m      2\u001b[0m \u001b[39m# kwrags['data_yaml']\u001b[39;00m\n\u001b[0;32m----> 3\u001b[0m model \u001b[39m=\u001b[39m create_model(config \u001b[39m=\u001b[39;49m \u001b[39m'\u001b[39;49m\u001b[39m/home/inbada/mars_module/mmdet_module/config/yolox_tiny_8x8_300e_coco.py\u001b[39;49m\u001b[39m'\u001b[39;49m, data_yaml \u001b[39m=\u001b[39;49m \u001b[39m'\u001b[39;49m\u001b[39m/home/inbada/mars_module/mmdet_module/config/info.yaml\u001b[39;49m\u001b[39m'\u001b[39;49m)\n",
      "File \u001b[0;32m~/mars_module/mmdet_module/utils/factory.py:10\u001b[0m, in \u001b[0;36mcreate_model\u001b[0;34m(**kwrags)\u001b[0m\n\u001b[1;32m      8\u001b[0m \u001b[39mdef\u001b[39;00m \u001b[39mcreate_model\u001b[39m(\u001b[39m*\u001b[39m\u001b[39m*\u001b[39mkwrags):\n\u001b[1;32m      9\u001b[0m     config \u001b[39m=\u001b[39m make_config(kwrags)\n\u001b[0;32m---> 10\u001b[0m     runner \u001b[39m=\u001b[39m Runner\u001b[39m.\u001b[39;49mfrom_cfg(config)\n\u001b[1;32m     11\u001b[0m     \u001b[39mreturn\u001b[39;00m runner\n",
      "File \u001b[0;32m~/anaconda3/envs/mmdet/lib/python3.8/site-packages/mmengine/runner/runner.py:441\u001b[0m, in \u001b[0;36mRunner.from_cfg\u001b[0;34m(cls, cfg)\u001b[0m\n\u001b[1;32m    429\u001b[0m \u001b[39m\u001b[39m\u001b[39m\"\"\"Build a runner from config.\u001b[39;00m\n\u001b[1;32m    430\u001b[0m \n\u001b[1;32m    431\u001b[0m \u001b[39mArgs:\u001b[39;00m\n\u001b[0;32m   (...)\u001b[0m\n\u001b[1;32m    436\u001b[0m \u001b[39m    Runner: A runner build from ``cfg``.\u001b[39;00m\n\u001b[1;32m    437\u001b[0m \u001b[39m\"\"\"\u001b[39;00m\n\u001b[1;32m    438\u001b[0m cfg \u001b[39m=\u001b[39m copy\u001b[39m.\u001b[39mdeepcopy(cfg)\n\u001b[1;32m    439\u001b[0m runner \u001b[39m=\u001b[39m \u001b[39mcls\u001b[39m(\n\u001b[1;32m    440\u001b[0m     model\u001b[39m=\u001b[39mcfg[\u001b[39m'\u001b[39m\u001b[39mmodel\u001b[39m\u001b[39m'\u001b[39m],\n\u001b[0;32m--> 441\u001b[0m     work_dir\u001b[39m=\u001b[39mcfg[\u001b[39m'\u001b[39;49m\u001b[39mwork_dir\u001b[39;49m\u001b[39m'\u001b[39;49m],\n\u001b[1;32m    442\u001b[0m     train_dataloader\u001b[39m=\u001b[39mcfg\u001b[39m.\u001b[39mget(\u001b[39m'\u001b[39m\u001b[39mtrain_dataloader\u001b[39m\u001b[39m'\u001b[39m),\n\u001b[1;32m    443\u001b[0m     val_dataloader\u001b[39m=\u001b[39mcfg\u001b[39m.\u001b[39mget(\u001b[39m'\u001b[39m\u001b[39mval_dataloader\u001b[39m\u001b[39m'\u001b[39m),\n\u001b[1;32m    444\u001b[0m     test_dataloader\u001b[39m=\u001b[39mcfg\u001b[39m.\u001b[39mget(\u001b[39m'\u001b[39m\u001b[39mtest_dataloader\u001b[39m\u001b[39m'\u001b[39m),\n\u001b[1;32m    445\u001b[0m     train_cfg\u001b[39m=\u001b[39mcfg\u001b[39m.\u001b[39mget(\u001b[39m'\u001b[39m\u001b[39mtrain_cfg\u001b[39m\u001b[39m'\u001b[39m),\n\u001b[1;32m    446\u001b[0m     val_cfg\u001b[39m=\u001b[39mcfg\u001b[39m.\u001b[39mget(\u001b[39m'\u001b[39m\u001b[39mval_cfg\u001b[39m\u001b[39m'\u001b[39m),\n\u001b[1;32m    447\u001b[0m     test_cfg\u001b[39m=\u001b[39mcfg\u001b[39m.\u001b[39mget(\u001b[39m'\u001b[39m\u001b[39mtest_cfg\u001b[39m\u001b[39m'\u001b[39m),\n\u001b[1;32m    448\u001b[0m     auto_scale_lr\u001b[39m=\u001b[39mcfg\u001b[39m.\u001b[39mget(\u001b[39m'\u001b[39m\u001b[39mauto_scale_lr\u001b[39m\u001b[39m'\u001b[39m),\n\u001b[1;32m    449\u001b[0m     optim_wrapper\u001b[39m=\u001b[39mcfg\u001b[39m.\u001b[39mget(\u001b[39m'\u001b[39m\u001b[39moptim_wrapper\u001b[39m\u001b[39m'\u001b[39m),\n\u001b[1;32m    450\u001b[0m     param_scheduler\u001b[39m=\u001b[39mcfg\u001b[39m.\u001b[39mget(\u001b[39m'\u001b[39m\u001b[39mparam_scheduler\u001b[39m\u001b[39m'\u001b[39m),\n\u001b[1;32m    451\u001b[0m     val_evaluator\u001b[39m=\u001b[39mcfg\u001b[39m.\u001b[39mget(\u001b[39m'\u001b[39m\u001b[39mval_evaluator\u001b[39m\u001b[39m'\u001b[39m),\n\u001b[1;32m    452\u001b[0m     test_evaluator\u001b[39m=\u001b[39mcfg\u001b[39m.\u001b[39mget(\u001b[39m'\u001b[39m\u001b[39mtest_evaluator\u001b[39m\u001b[39m'\u001b[39m),\n\u001b[1;32m    453\u001b[0m     default_hooks\u001b[39m=\u001b[39mcfg\u001b[39m.\u001b[39mget(\u001b[39m'\u001b[39m\u001b[39mdefault_hooks\u001b[39m\u001b[39m'\u001b[39m),\n\u001b[1;32m    454\u001b[0m     custom_hooks\u001b[39m=\u001b[39mcfg\u001b[39m.\u001b[39mget(\u001b[39m'\u001b[39m\u001b[39mcustom_hooks\u001b[39m\u001b[39m'\u001b[39m),\n\u001b[1;32m    455\u001b[0m     data_preprocessor\u001b[39m=\u001b[39mcfg\u001b[39m.\u001b[39mget(\u001b[39m'\u001b[39m\u001b[39mdata_preprocessor\u001b[39m\u001b[39m'\u001b[39m),\n\u001b[1;32m    456\u001b[0m     load_from\u001b[39m=\u001b[39mcfg\u001b[39m.\u001b[39mget(\u001b[39m'\u001b[39m\u001b[39mload_from\u001b[39m\u001b[39m'\u001b[39m),\n\u001b[1;32m    457\u001b[0m     resume\u001b[39m=\u001b[39mcfg\u001b[39m.\u001b[39mget(\u001b[39m'\u001b[39m\u001b[39mresume\u001b[39m\u001b[39m'\u001b[39m, \u001b[39mFalse\u001b[39;00m),\n\u001b[1;32m    458\u001b[0m     launcher\u001b[39m=\u001b[39mcfg\u001b[39m.\u001b[39mget(\u001b[39m'\u001b[39m\u001b[39mlauncher\u001b[39m\u001b[39m'\u001b[39m, \u001b[39m'\u001b[39m\u001b[39mnone\u001b[39m\u001b[39m'\u001b[39m),\n\u001b[1;32m    459\u001b[0m     env_cfg\u001b[39m=\u001b[39mcfg\u001b[39m.\u001b[39mget(\u001b[39m'\u001b[39m\u001b[39menv_cfg\u001b[39m\u001b[39m'\u001b[39m),  \u001b[39m# type: ignore\u001b[39;00m\n\u001b[1;32m    460\u001b[0m     log_processor\u001b[39m=\u001b[39mcfg\u001b[39m.\u001b[39mget(\u001b[39m'\u001b[39m\u001b[39mlog_processor\u001b[39m\u001b[39m'\u001b[39m),\n\u001b[1;32m    461\u001b[0m     log_level\u001b[39m=\u001b[39mcfg\u001b[39m.\u001b[39mget(\u001b[39m'\u001b[39m\u001b[39mlog_level\u001b[39m\u001b[39m'\u001b[39m, \u001b[39m'\u001b[39m\u001b[39mINFO\u001b[39m\u001b[39m'\u001b[39m),\n\u001b[1;32m    462\u001b[0m     visualizer\u001b[39m=\u001b[39mcfg\u001b[39m.\u001b[39mget(\u001b[39m'\u001b[39m\u001b[39mvisualizer\u001b[39m\u001b[39m'\u001b[39m),\n\u001b[1;32m    463\u001b[0m     default_scope\u001b[39m=\u001b[39mcfg\u001b[39m.\u001b[39mget(\u001b[39m'\u001b[39m\u001b[39mdefault_scope\u001b[39m\u001b[39m'\u001b[39m, \u001b[39m'\u001b[39m\u001b[39mmmengine\u001b[39m\u001b[39m'\u001b[39m),\n\u001b[1;32m    464\u001b[0m     randomness\u001b[39m=\u001b[39mcfg\u001b[39m.\u001b[39mget(\u001b[39m'\u001b[39m\u001b[39mrandomness\u001b[39m\u001b[39m'\u001b[39m, \u001b[39mdict\u001b[39m(seed\u001b[39m=\u001b[39m\u001b[39mNone\u001b[39;00m)),\n\u001b[1;32m    465\u001b[0m     experiment_name\u001b[39m=\u001b[39mcfg\u001b[39m.\u001b[39mget(\u001b[39m'\u001b[39m\u001b[39mexperiment_name\u001b[39m\u001b[39m'\u001b[39m),\n\u001b[1;32m    466\u001b[0m     cfg\u001b[39m=\u001b[39mcfg,\n\u001b[1;32m    467\u001b[0m )\n\u001b[1;32m    469\u001b[0m \u001b[39mreturn\u001b[39;00m runner\n",
      "File \u001b[0;32m~/anaconda3/envs/mmdet/lib/python3.8/site-packages/mmengine/config/config.py:906\u001b[0m, in \u001b[0;36mConfig.__getitem__\u001b[0;34m(self, name)\u001b[0m\n\u001b[1;32m    905\u001b[0m \u001b[39mdef\u001b[39;00m \u001b[39m__getitem__\u001b[39m(\u001b[39mself\u001b[39m, name):\n\u001b[0;32m--> 906\u001b[0m     \u001b[39mreturn\u001b[39;00m \u001b[39mself\u001b[39;49m\u001b[39m.\u001b[39;49m_cfg_dict\u001b[39m.\u001b[39;49m\u001b[39m__getitem__\u001b[39;49m(name)\n",
      "File \u001b[0;32m~/anaconda3/envs/mmdet/lib/python3.8/site-packages/mmengine/config/config.py:48\u001b[0m, in \u001b[0;36mConfigDict.__missing__\u001b[0;34m(self, name)\u001b[0m\n\u001b[1;32m     47\u001b[0m \u001b[39mdef\u001b[39;00m \u001b[39m__missing__\u001b[39m(\u001b[39mself\u001b[39m, name):\n\u001b[0;32m---> 48\u001b[0m     \u001b[39mraise\u001b[39;00m \u001b[39mKeyError\u001b[39;00m(name)\n",
      "\u001b[0;31mKeyError\u001b[0m: 'work_dir'"
     ]
    }
   ],
   "source": [
    "# kwrags['config']\n",
    "# kwrags['data_yaml']\n",
    "model = create_model(config = '/home/inbada/mars_module/mmdet_module/config/yolox_tiny_8x8_300e_coco.py', data_yaml = '/home/inbada/mars_module/mmdet_module/config/info.yaml')"
   ]
  },
  {
   "cell_type": "code",
   "execution_count": null,
   "metadata": {},
   "outputs": [],
   "source": [
    "model.train()\n",
    "model.test()"
   ]
  },
  {
   "cell_type": "code",
   "execution_count": null,
   "metadata": {},
   "outputs": [],
   "source": []
  }
 ],
 "metadata": {
  "kernelspec": {
   "display_name": "mmdet",
   "language": "python",
   "name": "python3"
  },
  "language_info": {
   "codemirror_mode": {
    "name": "ipython",
    "version": 3
   },
   "file_extension": ".py",
   "mimetype": "text/x-python",
   "name": "python",
   "nbconvert_exporter": "python",
   "pygments_lexer": "ipython3",
   "version": "3.8.16"
  },
  "orig_nbformat": 4
 },
 "nbformat": 4,
 "nbformat_minor": 2
}
